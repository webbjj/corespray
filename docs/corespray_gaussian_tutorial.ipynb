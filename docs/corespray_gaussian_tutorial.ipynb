{
 "cells": [
  {
   "cell_type": "markdown",
   "metadata": {},
   "source": [
    "## How to simulate extra-tidal stars of globular clusters with a gaussian kick distribution using Corespray."
   ]
  },
  {
   "cell_type": "markdown",
   "metadata": {},
   "source": [
    "### STEP 0: Import the necessary Python packages. \n",
    "\n",
    "$\\texttt{corespray}$ can be downloaded at: https://github.com/webbjj/corespray. \n",
    "\n",
    "$\\texttt{galpy}$ (Bovy 2015) can be downloaded at: https://docs.galpy.org/en/v1.8.0/. \n"
   ]
  },
  {
   "cell_type": "code",
   "execution_count": 1,
   "metadata": {},
   "outputs": [
    {
     "name": "stdout",
     "output_type": "stream",
     "text": [
      "galpyWarning: libgalpy C extension module not loaded, because libgalpy.cpython-311-darwin.so image was not found\n"
     ]
    }
   ],
   "source": [
    "# Import corespray:\n",
    "from corespray import corespraydf,load_galpy_potential\n",
    "\n",
    "# Import galpy packages:\n",
    "from galpy.potential import MWPotential2014\n",
    "from galpy.potential import KingPotential\n",
    "from galpy.util import conversion\n",
    "from galpy.orbit import Orbit\n",
    "\n",
    "# Import other necessary Python packages:\n",
    "import numpy as np\n",
    "import matplotlib.pyplot as plt\n",
    "from matplotlib import rc\n",
    "plt.rcParams['mathtext.fontset'] = 'stix'\n",
    "plt.rcParams['font.family'] = 'STIXGeneral'\n",
    "from matplotlib import animation\n",
    "\n",
    "\n",
    "from IPython.display import HTML\n",
    "%matplotlib inline"
   ]
  },
  {
   "cell_type": "markdown",
   "metadata": {},
   "source": [
    "### STEP 1: Load in the specific parameters for your GC of interest:\n",
    "Spatial, kinematic and orbital parameters for most Galactic GCs can be found in the Baumgardt & Hilker (2018) catalogue. This catalogue is accessible at: https://people.smp.uq.edu.au/HolgerBaumgardt/globular/. \n",
    "\n",
    "For this example, we simulate extra-tidal stars and binaries of M3. "
   ]
  },
  {
   "cell_type": "code",
   "execution_count": 2,
   "metadata": {},
   "outputs": [],
   "source": [
    "#Name of Galactic Globular Cluster from which to simulate core ejection or a Galpy orbit instance\n",
    "gcname ='M3' \n",
    "#Potentional to be used for orbit integration (default: MWPotential2014)\n",
    "potential = load_galpy_potential()  # Galactic potential model\n",
    "#globular cluster mass - needed if cluster's potential is to be included in orbit integration of escapers (default: None)\n",
    "mgc = 4.06e5  # Mass [solar masses]\n",
    "#half-mass radius of globular cluster (assuming Plummer potential) or tidal radius of globular cluster (assuming King potential) (default: None)\n",
    "rgc = 127.28/1000.0  # Tidal radius of GC [kpc]\n",
    "#King central potential parameter (default: None, which results in cluster potential taken to be a Plummer)\n",
    "W0 = 8.61469762517307 \n",
    "#mean kick velocity\n",
    "vmean=100.\n",
    "#standard deviation of kick velocity distribution\n",
    "vsig=10.0\n",
    "#galpy length scaling parameter (default: 8.)\n",
    "ro = 8. #radius of the solar circle \n",
    "#galpy veocicity scaling parameter (default: 220.)\n",
    "vo = 220. #circular orbit velocity at the solar circle"
   ]
  },
  {
   "cell_type": "markdown",
   "metadata": {},
   "source": [
    "### STEP 2: Initialize a corespray instance using your previously defined parameters"
   ]
  },
  {
   "cell_type": "code",
   "execution_count": 3,
   "metadata": {},
   "outputs": [],
   "source": [
    "# Initialize corespray\n",
    "cspray = corespraydf(gcname, \n",
    "                     potential, \n",
    "                     mgc, rgc, W0, \n",
    "                     ro,vo)"
   ]
  },
  {
   "cell_type": "markdown",
   "metadata": {},
   "source": [
    "### STEP 3: Sample core ejections along the orbit for 1000 Myr.\n"
   ]
  },
  {
   "cell_type": "code",
   "execution_count": 4,
   "metadata": {},
   "outputs": [
    {
     "name": "stdout",
     "output_type": "stream",
     "text": [
      "galpyWarning: Cannot use C integration because C extension not loaded (using leapfrog instead)\n"
     ]
    },
    {
     "ename": "KeyboardInterrupt",
     "evalue": "",
     "output_type": "error",
     "traceback": [
      "\u001b[0;31m---------------------------------------------------------------------------\u001b[0m",
      "\u001b[0;31mKeyboardInterrupt\u001b[0m                         Traceback (most recent call last)",
      "Cell \u001b[0;32mIn[4], line 16\u001b[0m\n\u001b[1;32m     12\u001b[0m \u001b[38;5;66;03m#keep track of binaries that receive recoil kicks greater than \u001b[39;00m\n\u001b[1;32m     13\u001b[0m \u001b[38;5;66;03m#the cluster's escape velocity (default : False)\u001b[39;00m\n\u001b[1;32m     14\u001b[0m binaries\u001b[38;5;241m=\u001b[39m\u001b[38;5;28;01mTrue\u001b[39;00m\n\u001b[0;32m---> 16\u001b[0m os \u001b[38;5;241m=\u001b[39m cspray\u001b[38;5;241m.\u001b[39msample_gaussian(tdisrupt,rate,nstar,\n\u001b[1;32m     17\u001b[0m                                  vmean,vsig)\n",
      "File \u001b[0;32m~/Codes/corespray/corespray/df/corespraydf.py:807\u001b[0m, in \u001b[0;36mcorespraydf.sample_gaussian\u001b[0;34m(self, tdisrupt, rate, nstar, vmean, vsig, verbose, **kwargs)\u001b[0m\n\u001b[1;32m    804\u001b[0m vykick\u001b[38;5;241m=\u001b[39m\u001b[38;5;28mself\u001b[39m\u001b[38;5;241m.\u001b[39mvesc\u001b[38;5;241m*\u001b[39m(vys\u001b[38;5;241m/\u001b[39mvstar)\n\u001b[1;32m    805\u001b[0m vzkick\u001b[38;5;241m=\u001b[39m\u001b[38;5;28mself\u001b[39m\u001b[38;5;241m.\u001b[39mvesc\u001b[38;5;241m*\u001b[39m(vzs\u001b[38;5;241m/\u001b[39mvstar)\n\u001b[0;32m--> 807\u001b[0m \u001b[38;5;28mself\u001b[39m\u001b[38;5;241m.\u001b[39moi,\u001b[38;5;28mself\u001b[39m\u001b[38;5;241m.\u001b[39mof\u001b[38;5;241m=\u001b[39m\u001b[38;5;28mself\u001b[39m\u001b[38;5;241m.\u001b[39m_integrate_orbits(vxkick,vykick,vzkick,\u001b[38;5;241m*\u001b[39m\u001b[38;5;241m*\u001b[39mkwargs)\n\u001b[1;32m    809\u001b[0m \u001b[38;5;28;01mreturn\u001b[39;00m \u001b[38;5;28mself\u001b[39m\u001b[38;5;241m.\u001b[39mof\n",
      "File \u001b[0;32m~/Codes/corespray/corespray/df/corespraydf.py:537\u001b[0m, in \u001b[0;36mcorespraydf._integrate_orbits\u001b[0;34m(self, vxkick, vykick, vzkick, binaries, verbose, **kwargs)\u001b[0m\n\u001b[1;32m    534\u001b[0m ts\u001b[38;5;241m=\u001b[39mnp\u001b[38;5;241m.\u001b[39mlinspace(\u001b[38;5;28mself\u001b[39m\u001b[38;5;241m.\u001b[39mtesc[i]\u001b[38;5;241m/\u001b[39m\u001b[38;5;28mself\u001b[39m\u001b[38;5;241m.\u001b[39mto,\u001b[38;5;241m0.\u001b[39m,ntstep)\n\u001b[1;32m    536\u001b[0m \u001b[38;5;28;01mif\u001b[39;00m method \u001b[38;5;129;01mis\u001b[39;00m \u001b[38;5;28;01mNone\u001b[39;00m:\n\u001b[0;32m--> 537\u001b[0m \tos\u001b[38;5;241m.\u001b[39mintegrate(ts,\u001b[38;5;28mself\u001b[39m\u001b[38;5;241m.\u001b[39mpot) \n\u001b[1;32m    538\u001b[0m \u001b[38;5;28;01melse\u001b[39;00m:\n\u001b[1;32m    539\u001b[0m \tos\u001b[38;5;241m.\u001b[39mintegrate(ts,\u001b[38;5;28mself\u001b[39m\u001b[38;5;241m.\u001b[39mpot,method\u001b[38;5;241m=\u001b[39mmethod)\n",
      "File \u001b[0;32m~/anaconda3/lib/python3.11/site-packages/galpy/orbit/Orbits.py:1514\u001b[0m, in \u001b[0;36mOrbit.integrate\u001b[0;34m(self, t, pot, method, progressbar, dt, numcores, force_map)\u001b[0m\n\u001b[1;32m   1504\u001b[0m         out, msg \u001b[38;5;241m=\u001b[39m integratePlanarOrbit(\n\u001b[1;32m   1505\u001b[0m             \u001b[38;5;28mself\u001b[39m\u001b[38;5;241m.\u001b[39m_pot,\n\u001b[1;32m   1506\u001b[0m             \u001b[38;5;28mself\u001b[39m\u001b[38;5;241m.\u001b[39mvxvv,\n\u001b[0;32m   (...)\u001b[0m\n\u001b[1;32m   1511\u001b[0m             dt\u001b[38;5;241m=\u001b[39mdt,\n\u001b[1;32m   1512\u001b[0m         )\n\u001b[1;32m   1513\u001b[0m     \u001b[38;5;28;01melse\u001b[39;00m:\n\u001b[0;32m-> 1514\u001b[0m         out, msg \u001b[38;5;241m=\u001b[39m integrateFullOrbit(\n\u001b[1;32m   1515\u001b[0m             \u001b[38;5;28mself\u001b[39m\u001b[38;5;241m.\u001b[39m_pot,\n\u001b[1;32m   1516\u001b[0m             \u001b[38;5;28mself\u001b[39m\u001b[38;5;241m.\u001b[39mvxvv,\n\u001b[1;32m   1517\u001b[0m             t,\n\u001b[1;32m   1518\u001b[0m             method,\n\u001b[1;32m   1519\u001b[0m             progressbar\u001b[38;5;241m=\u001b[39mprogressbar,\n\u001b[1;32m   1520\u001b[0m             numcores\u001b[38;5;241m=\u001b[39mnumcores,\n\u001b[1;32m   1521\u001b[0m             dt\u001b[38;5;241m=\u001b[39mdt,\n\u001b[1;32m   1522\u001b[0m         )\n\u001b[1;32m   1523\u001b[0m \u001b[38;5;28;01melse\u001b[39;00m:\n\u001b[1;32m   1524\u001b[0m     warnings\u001b[38;5;241m.\u001b[39mwarn(\n\u001b[1;32m   1525\u001b[0m         \u001b[38;5;124m\"\u001b[39m\u001b[38;5;124mUsing C implementation to integrate orbits\u001b[39m\u001b[38;5;124m\"\u001b[39m, galpyWarningVerbose\n\u001b[1;32m   1526\u001b[0m     )\n",
      "File \u001b[0;32m~/anaconda3/lib/python3.11/site-packages/galpy/orbit/integrateFullOrbit.py:849\u001b[0m, in \u001b[0;36mintegrateFullOrbit\u001b[0;34m(pot, yo, t, int_method, rtol, atol, numcores, progressbar, dt)\u001b[0m\n\u001b[1;32m    846\u001b[0m         \u001b[38;5;28;01mreturn\u001b[39;00m integrateFullOrbit_c(pot, numpy\u001b[38;5;241m.\u001b[39mcopy(vxvv), t, int_method, dt\u001b[38;5;241m=\u001b[39mdt)[\u001b[38;5;241m0\u001b[39m]\n\u001b[1;32m    848\u001b[0m \u001b[38;5;28;01mif\u001b[39;00m \u001b[38;5;28mlen\u001b[39m(yo) \u001b[38;5;241m==\u001b[39m \u001b[38;5;241m1\u001b[39m:  \u001b[38;5;66;03m# Can't map a single value...\u001b[39;00m\n\u001b[0;32m--> 849\u001b[0m     out \u001b[38;5;241m=\u001b[39m numpy\u001b[38;5;241m.\u001b[39matleast_3d(integrate_for_map(yo[\u001b[38;5;241m0\u001b[39m])\u001b[38;5;241m.\u001b[39mT)\u001b[38;5;241m.\u001b[39mT\n\u001b[1;32m    850\u001b[0m \u001b[38;5;28;01melse\u001b[39;00m:\n\u001b[1;32m    851\u001b[0m     out \u001b[38;5;241m=\u001b[39m numpy\u001b[38;5;241m.\u001b[39marray(\n\u001b[1;32m    852\u001b[0m         parallel_map(\n\u001b[1;32m    853\u001b[0m             integrate_for_map, yo, numcores\u001b[38;5;241m=\u001b[39mnumcores, progressbar\u001b[38;5;241m=\u001b[39mprogressbar\n\u001b[1;32m    854\u001b[0m         )\n\u001b[1;32m    855\u001b[0m     )\n",
      "File \u001b[0;32m~/anaconda3/lib/python3.11/site-packages/galpy/orbit/integrateFullOrbit.py:780\u001b[0m, in \u001b[0;36mintegrateFullOrbit.<locals>.integrate_for_map\u001b[0;34m(vxvv)\u001b[0m\n\u001b[1;32m    769\u001b[0m this_vxvv \u001b[38;5;241m=\u001b[39m numpy\u001b[38;5;241m.\u001b[39marray(\n\u001b[1;32m    770\u001b[0m     [\n\u001b[1;32m    771\u001b[0m         vxvv[\u001b[38;5;241m0\u001b[39m] \u001b[38;5;241m*\u001b[39m numpy\u001b[38;5;241m.\u001b[39mcos(vxvv[\u001b[38;5;241m5\u001b[39m]),\n\u001b[0;32m   (...)\u001b[0m\n\u001b[1;32m    777\u001b[0m     ]\n\u001b[1;32m    778\u001b[0m )\n\u001b[1;32m    779\u001b[0m \u001b[38;5;66;03m# integrate\u001b[39;00m\n\u001b[0;32m--> 780\u001b[0m out \u001b[38;5;241m=\u001b[39m symplecticode\u001b[38;5;241m.\u001b[39mleapfrog(\n\u001b[1;32m    781\u001b[0m     _rectForce, this_vxvv, t, args\u001b[38;5;241m=\u001b[39m(pot,), rtol\u001b[38;5;241m=\u001b[39mrtol\n\u001b[1;32m    782\u001b[0m )\n\u001b[1;32m    783\u001b[0m \u001b[38;5;66;03m# go back to the cylindrical frame\u001b[39;00m\n\u001b[1;32m    784\u001b[0m R \u001b[38;5;241m=\u001b[39m numpy\u001b[38;5;241m.\u001b[39msqrt(out[:, \u001b[38;5;241m0\u001b[39m] \u001b[38;5;241m*\u001b[39m\u001b[38;5;241m*\u001b[39m \u001b[38;5;241m2.0\u001b[39m \u001b[38;5;241m+\u001b[39m out[:, \u001b[38;5;241m1\u001b[39m] \u001b[38;5;241m*\u001b[39m\u001b[38;5;241m*\u001b[39m \u001b[38;5;241m2.0\u001b[39m)\n",
      "File \u001b[0;32m~/anaconda3/lib/python3.11/site-packages/galpy/util/symplecticode.py:83\u001b[0m, in \u001b[0;36mleapfrog\u001b[0;34m(func, yo, t, args, rtol, atol)\u001b[0m\n\u001b[1;32m     80\u001b[0m q12 \u001b[38;5;241m=\u001b[39m leapfrog_leapq(qo, po, dt \u001b[38;5;241m/\u001b[39m \u001b[38;5;241m2.0\u001b[39m)\n\u001b[1;32m     81\u001b[0m \u001b[38;5;28;01mfor\u001b[39;00m jj \u001b[38;5;129;01min\u001b[39;00m \u001b[38;5;28mrange\u001b[39m(ndt \u001b[38;5;241m-\u001b[39m \u001b[38;5;241m1\u001b[39m):  \u001b[38;5;66;03m# loop over number of sub-intervals\u001b[39;00m\n\u001b[1;32m     82\u001b[0m     \u001b[38;5;66;03m# kick\u001b[39;00m\n\u001b[0;32m---> 83\u001b[0m     force \u001b[38;5;241m=\u001b[39m func(q12, \u001b[38;5;241m*\u001b[39margs, t\u001b[38;5;241m=\u001b[39mto \u001b[38;5;241m+\u001b[39m dt \u001b[38;5;241m/\u001b[39m \u001b[38;5;241m2\u001b[39m)\n\u001b[1;32m     84\u001b[0m     po \u001b[38;5;241m=\u001b[39m leapfrog_leapp(po, dt, force)\n\u001b[1;32m     85\u001b[0m     \u001b[38;5;66;03m# full drift to next half step\u001b[39;00m\n",
      "File \u001b[0;32m~/anaconda3/lib/python3.11/site-packages/galpy/orbit/integrateFullOrbit.py:1274\u001b[0m, in \u001b[0;36m_rectForce\u001b[0;34m(x, pot, t, vx)\u001b[0m\n\u001b[1;32m   1272\u001b[0m \u001b[38;5;66;03m# calculate forces\u001b[39;00m\n\u001b[1;32m   1273\u001b[0m Rforce \u001b[38;5;241m=\u001b[39m _evaluateRforces(pot, R, x[\u001b[38;5;241m2\u001b[39m], phi\u001b[38;5;241m=\u001b[39mphi, t\u001b[38;5;241m=\u001b[39mt, v\u001b[38;5;241m=\u001b[39mvx)\n\u001b[0;32m-> 1274\u001b[0m phitorque \u001b[38;5;241m=\u001b[39m _evaluatephitorques(pot, R, x[\u001b[38;5;241m2\u001b[39m], phi\u001b[38;5;241m=\u001b[39mphi, t\u001b[38;5;241m=\u001b[39mt, v\u001b[38;5;241m=\u001b[39mvx)\n\u001b[1;32m   1275\u001b[0m \u001b[38;5;28;01mreturn\u001b[39;00m numpy\u001b[38;5;241m.\u001b[39marray(\n\u001b[1;32m   1276\u001b[0m     [\n\u001b[1;32m   1277\u001b[0m         cosphi \u001b[38;5;241m*\u001b[39m Rforce \u001b[38;5;241m-\u001b[39m \u001b[38;5;241m1.0\u001b[39m \u001b[38;5;241m/\u001b[39m R \u001b[38;5;241m*\u001b[39m sinphi \u001b[38;5;241m*\u001b[39m phitorque,\n\u001b[0;32m   (...)\u001b[0m\n\u001b[1;32m   1280\u001b[0m     ]\n\u001b[1;32m   1281\u001b[0m )\n",
      "File \u001b[0;32m~/anaconda3/lib/python3.11/site-packages/galpy/potential/Potential.py:2190\u001b[0m, in \u001b[0;36m_evaluatephitorques\u001b[0;34m(Pot, R, z, phi, t, v)\u001b[0m\n\u001b[1;32m   2188\u001b[0m             out \u001b[38;5;241m+\u001b[39m\u001b[38;5;241m=\u001b[39m pot\u001b[38;5;241m.\u001b[39m_phitorque_nodecorator(R, z, phi\u001b[38;5;241m=\u001b[39mphi, t\u001b[38;5;241m=\u001b[39mt, v\u001b[38;5;241m=\u001b[39mv)\n\u001b[1;32m   2189\u001b[0m         \u001b[38;5;28;01melse\u001b[39;00m:\n\u001b[0;32m-> 2190\u001b[0m             out \u001b[38;5;241m+\u001b[39m\u001b[38;5;241m=\u001b[39m pot\u001b[38;5;241m.\u001b[39m_phitorque_nodecorator(R, z, phi\u001b[38;5;241m=\u001b[39mphi, t\u001b[38;5;241m=\u001b[39mt)\n\u001b[1;32m   2191\u001b[0m     \u001b[38;5;28;01mreturn\u001b[39;00m out\n\u001b[1;32m   2192\u001b[0m \u001b[38;5;28;01melif\u001b[39;00m Pot\u001b[38;5;241m.\u001b[39misDissipative:\n",
      "File \u001b[0;32m~/anaconda3/lib/python3.11/site-packages/galpy/potential/Potential.py:753\u001b[0m, in \u001b[0;36mPotential._phitorque_nodecorator\u001b[0;34m(self, R, z, phi, t)\u001b[0m\n\u001b[1;32m    750\u001b[0m \u001b[38;5;28;01mdef\u001b[39;00m \u001b[38;5;21m_phitorque_nodecorator\u001b[39m(\u001b[38;5;28mself\u001b[39m, R, z, phi\u001b[38;5;241m=\u001b[39m\u001b[38;5;241m0.0\u001b[39m, t\u001b[38;5;241m=\u001b[39m\u001b[38;5;241m0.0\u001b[39m):\n\u001b[1;32m    751\u001b[0m     \u001b[38;5;66;03m# Separate, so it can be used during orbit integration\u001b[39;00m\n\u001b[1;32m    752\u001b[0m     \u001b[38;5;28;01mtry\u001b[39;00m:\n\u001b[0;32m--> 753\u001b[0m         \u001b[38;5;28;01mreturn\u001b[39;00m \u001b[38;5;28mself\u001b[39m\u001b[38;5;241m.\u001b[39m_amp \u001b[38;5;241m*\u001b[39m \u001b[38;5;28mself\u001b[39m\u001b[38;5;241m.\u001b[39m_phitorque(R, z, phi\u001b[38;5;241m=\u001b[39mphi, t\u001b[38;5;241m=\u001b[39mt)\n\u001b[1;32m    754\u001b[0m     \u001b[38;5;28;01mexcept\u001b[39;00m \u001b[38;5;167;01mAttributeError\u001b[39;00m:  \u001b[38;5;66;03m# pragma: no cover\u001b[39;00m\n\u001b[1;32m    755\u001b[0m         \u001b[38;5;28;01mif\u001b[39;00m \u001b[38;5;28mself\u001b[39m\u001b[38;5;241m.\u001b[39misNonAxi:\n",
      "File \u001b[0;32m~/anaconda3/lib/python3.11/site-packages/galpy/potential/MovingObjectPotential.py:100\u001b[0m, in \u001b[0;36mMovingObjectPotential._phitorque\u001b[0;34m(self, R, z, phi, t)\u001b[0m\n\u001b[1;32m     98\u001b[0m Rdist \u001b[38;5;241m=\u001b[39m _cylR(R, phi, \u001b[38;5;28mself\u001b[39m\u001b[38;5;241m.\u001b[39m_orb\u001b[38;5;241m.\u001b[39mR(t), \u001b[38;5;28mself\u001b[39m\u001b[38;5;241m.\u001b[39m_orb\u001b[38;5;241m.\u001b[39mphi(t))\n\u001b[1;32m     99\u001b[0m \u001b[38;5;66;03m# Difference vector\u001b[39;00m\n\u001b[0;32m--> 100\u001b[0m orbz \u001b[38;5;241m=\u001b[39m \u001b[38;5;28mself\u001b[39m\u001b[38;5;241m.\u001b[39m_orb\u001b[38;5;241m.\u001b[39mz(t) \u001b[38;5;28;01mif\u001b[39;00m \u001b[38;5;28mself\u001b[39m\u001b[38;5;241m.\u001b[39m_orb\u001b[38;5;241m.\u001b[39mdim() \u001b[38;5;241m==\u001b[39m \u001b[38;5;241m3\u001b[39m \u001b[38;5;28;01melse\u001b[39;00m \u001b[38;5;241m0\u001b[39m\n\u001b[1;32m    101\u001b[0m (xd, yd, zd) \u001b[38;5;241m=\u001b[39m _cyldiff(\u001b[38;5;28mself\u001b[39m\u001b[38;5;241m.\u001b[39m_orb\u001b[38;5;241m.\u001b[39mR(t), \u001b[38;5;28mself\u001b[39m\u001b[38;5;241m.\u001b[39m_orb\u001b[38;5;241m.\u001b[39mphi(t), orbz, R, phi, z)\n\u001b[1;32m    102\u001b[0m \u001b[38;5;66;03m# Evaluate cylindrical radial force.\u001b[39;00m\n",
      "File \u001b[0;32m~/anaconda3/lib/python3.11/site-packages/galpy/util/conversion.py:1013\u001b[0m, in \u001b[0;36mphysical_conversion.<locals>.wrapper.<locals>.wrapped\u001b[0;34m(*args, **kwargs)\u001b[0m\n\u001b[1;32m   1009\u001b[0m \u001b[38;5;28;01mif\u001b[39;00m use_physical_explicitly_set:\n\u001b[1;32m   1010\u001b[0m     warnings\u001b[38;5;241m.\u001b[39mwarn(\n\u001b[1;32m   1011\u001b[0m         \u001b[38;5;124m\"\u001b[39m\u001b[38;5;124mReturning output(s) in internal units even though use_physical=True, because ro and/or vo not set\u001b[39m\u001b[38;5;124m\"\u001b[39m\n\u001b[1;32m   1012\u001b[0m     )\n\u001b[0;32m-> 1013\u001b[0m \u001b[38;5;28;01mreturn\u001b[39;00m method(\u001b[38;5;241m*\u001b[39margs, \u001b[38;5;241m*\u001b[39m\u001b[38;5;241m*\u001b[39mkwargs)\n",
      "File \u001b[0;32m~/anaconda3/lib/python3.11/site-packages/galpy/orbit/Orbits.py:271\u001b[0m, in \u001b[0;36mshapeDecorator.<locals>.shape_wrapper\u001b[0;34m(*args, **kwargs)\u001b[0m\n\u001b[1;32m    268\u001b[0m \u001b[38;5;129m@wraps\u001b[39m(func)\n\u001b[1;32m    269\u001b[0m \u001b[38;5;28;01mdef\u001b[39;00m \u001b[38;5;21mshape_wrapper\u001b[39m(\u001b[38;5;241m*\u001b[39margs, \u001b[38;5;241m*\u001b[39m\u001b[38;5;241m*\u001b[39mkwargs):\n\u001b[1;32m    270\u001b[0m     dontreshape \u001b[38;5;241m=\u001b[39m kwargs\u001b[38;5;241m.\u001b[39mget(\u001b[38;5;124m\"\u001b[39m\u001b[38;5;124mdontreshape\u001b[39m\u001b[38;5;124m\"\u001b[39m, \u001b[38;5;28;01mFalse\u001b[39;00m)\n\u001b[0;32m--> 271\u001b[0m     result \u001b[38;5;241m=\u001b[39m func(\u001b[38;5;241m*\u001b[39margs, \u001b[38;5;241m*\u001b[39m\u001b[38;5;241m*\u001b[39mkwargs)\n\u001b[1;32m    272\u001b[0m     \u001b[38;5;28;01mif\u001b[39;00m dontreshape:\n\u001b[1;32m    273\u001b[0m         \u001b[38;5;28;01mreturn\u001b[39;00m result\n",
      "File \u001b[0;32m~/anaconda3/lib/python3.11/site-packages/galpy/orbit/Orbits.py:3914\u001b[0m, in \u001b[0;36mOrbit.z\u001b[0;34m(self, *args, **kwargs)\u001b[0m\n\u001b[1;32m   3912\u001b[0m \u001b[38;5;28;01mif\u001b[39;00m \u001b[38;5;28mself\u001b[39m\u001b[38;5;241m.\u001b[39mdim() \u001b[38;5;241m<\u001b[39m \u001b[38;5;241m3\u001b[39m:\n\u001b[1;32m   3913\u001b[0m     \u001b[38;5;28;01mraise\u001b[39;00m \u001b[38;5;167;01mAttributeError\u001b[39;00m(\u001b[38;5;124m\"\u001b[39m\u001b[38;5;124mlinear and planar orbits do not have z()\u001b[39m\u001b[38;5;124m\"\u001b[39m)\n\u001b[0;32m-> 3914\u001b[0m \u001b[38;5;28;01mreturn\u001b[39;00m \u001b[38;5;28mself\u001b[39m\u001b[38;5;241m.\u001b[39m_call_internal(\u001b[38;5;241m*\u001b[39margs, \u001b[38;5;241m*\u001b[39m\u001b[38;5;241m*\u001b[39mkwargs)[\u001b[38;5;241m3\u001b[39m]\u001b[38;5;241m.\u001b[39mT\n",
      "File \u001b[0;32m~/anaconda3/lib/python3.11/site-packages/galpy/orbit/Orbits.py:5466\u001b[0m, in \u001b[0;36mOrbit._call_internal\u001b[0;34m(self, *args, **kwargs)\u001b[0m\n\u001b[1;32m   5464\u001b[0m \u001b[38;5;28;01mif\u001b[39;00m \u001b[38;5;28misinstance\u001b[39m(t, (\u001b[38;5;28mint\u001b[39m, \u001b[38;5;28mfloat\u001b[39m, numpy\u001b[38;5;241m.\u001b[39mnumber)):\n\u001b[1;32m   5465\u001b[0m     nt \u001b[38;5;241m=\u001b[39m \u001b[38;5;241m1\u001b[39m\n\u001b[0;32m-> 5466\u001b[0m     t \u001b[38;5;241m=\u001b[39m numpy\u001b[38;5;241m.\u001b[39matleast_1d(t)\n\u001b[1;32m   5467\u001b[0m \u001b[38;5;28;01melse\u001b[39;00m:\n\u001b[1;32m   5468\u001b[0m     nt \u001b[38;5;241m=\u001b[39m \u001b[38;5;28mlen\u001b[39m(t)\n",
      "File \u001b[0;32m<__array_function__ internals>:177\u001b[0m, in \u001b[0;36matleast_1d\u001b[0;34m(*args, **kwargs)\u001b[0m\n",
      "\u001b[0;31mKeyboardInterrupt\u001b[0m: "
     ]
    }
   ],
   "source": [
    "#time over which sampling begins (Myr)\n",
    "tdisrupt=1000.0\n",
    "#ejection rate (default 1 per Myr)\n",
    "rate=1.0\n",
    "#if set, nstar stars will be ejected randomly from -tdisrupt to 0 Myr. \n",
    "#Rate is recalculated. (default : None)\n",
    "nstar=10\n",
    "#when sampling kick velocity distribution function\n",
    "#sampling range will be from 0 to npeak*vpeak, where \n",
    "#vpeak is the peak in the distribution function (default: 5)\n",
    "npeak=5\n",
    "#keep track of binaries that receive recoil kicks greater than \n",
    "#the cluster's escape velocity (default : False)\n",
    "binaries=True\n",
    "\n",
    "os = cspray.sample_gaussian(tdisrupt,rate,nstar,\n",
    "                                 vmean,vsig)"
   ]
  },
  {
   "cell_type": "markdown",
   "metadata": {},
   "source": [
    "### STEP 4: Extract parameters for the SINGLE escapers:"
   ]
  },
  {
   "cell_type": "code",
   "execution_count": null,
   "metadata": {},
   "outputs": [],
   "source": [
    "t_esc = cspray.tesc  # [Myr] in the past that star escaped\n",
    "v_esc = cspray.vesc  # [km/s] kick velocity that star received"
   ]
  },
  {
   "cell_type": "markdown",
   "metadata": {},
   "source": [
    "#### Explore some parameter spaces of your simulated extra-tidal stars\n",
    "-- Note the cluster's orbit instance is set to cspray.o"
   ]
  },
  {
   "cell_type": "code",
   "execution_count": null,
   "metadata": {},
   "outputs": [],
   "source": [
    "fig, ax = plt.subplots(nrows=2, ncols=2, figsize=(10, 10))\n",
    "\n",
    "# RA vs Dec positions:\n",
    "ax[0, 0].scatter(os.ra(), os.dec(), marker='o', s=50, edgecolor='black', c='#8d99ae', alpha=0.9) \n",
    "ax[0, 0].scatter(cspray.o.ra(), cspray.o.dec(), marker='*', s=250, edgecolor='black', c='#2b2d42')\n",
    "ax[0, 0].set_xlabel(r\"$\\alpha$ ($^\\circ $)\", fontsize=18)\n",
    "ax[0, 0].set_ylabel(r\"$\\delta$ ($^\\circ $)\", fontsize=18)\n",
    "ax[0, 0].tick_params(axis='both', which='major', labelsize=16)\n",
    "ax[0, 0].tick_params(axis='both', which='minor', labelsize=16)\n",
    "\n",
    "# R vs z positions:\n",
    "ax[0, 1].scatter(os.r(), os.z(), marker='o', s=50, edgecolor='black', c='#8d99ae', alpha=0.9, label='Extra-tidal stars') \n",
    "ax[0, 1].scatter(cspray.o.r(), cspray.o.z(), marker='*', s=250, edgecolor='black', c='#2b2d42', label='M3 Centre')\n",
    "ax[0, 1].set_xlabel(r\"$r$ (kpc)\", fontsize=18)\n",
    "ax[0, 1].set_ylabel(r\"$z$ (kpc)\", fontsize=18)\n",
    "ax[0, 1].tick_params(axis='both', which='major', labelsize=16)\n",
    "ax[0, 1].tick_params(axis='both', which='minor', labelsize=16)\n",
    "ax[0, 1].legend(fontsize=16)\n",
    "\n",
    "# Proper motion:\n",
    "ax[1, 0].scatter(os.pmra(), os.pmdec(), marker='o', s=50, edgecolor='black', c='#8d99ae', alpha=0.9) \n",
    "ax[1, 0].scatter(cspray.o.pmra(), cspray.o.pmdec(), marker='*', s=250, edgecolor='black', c='#2b2d42')\n",
    "ax[1, 0].set_xlabel(r\"$\\mu_{\\alpha}$ (mas/yr)\", fontsize=18)\n",
    "ax[1, 0].set_ylabel(r\"$\\mu_{\\delta}$ (mas/yr)\", fontsize=18)\n",
    "ax[1, 0].tick_params(axis='both', which='major', labelsize=16)\n",
    "ax[1, 0].tick_params(axis='both', which='minor', labelsize=16)\n",
    "\n",
    "# Escape velocities:\n",
    "ax[1, 1].hist(v_esc, bins=7, color='#8d99ae', density=True)\n",
    "ax[1, 1].tick_params(axis='both', which='major', labelsize=16)\n",
    "ax[1, 1].tick_params(axis='both', which='minor', labelsize=16)\n",
    "ax[1, 1].set_xlabel(r\"$v_{esc}$ (km/s)\", fontsize=18)\n",
    "ax[1, 1].set_ylabel(\"Normalized Counts\", fontsize=18)\n",
    "\n",
    "fig.tight_layout()\n",
    "plt.show()"
   ]
  },
  {
   "cell_type": "markdown",
   "metadata": {},
   "source": [
    "#### Animate the ejection of stars from the cluster's core"
   ]
  },
  {
   "cell_type": "code",
   "execution_count": null,
   "metadata": {},
   "outputs": [],
   "source": [
    "#frames - number of frames to use for animation (default:100)\n",
    "#interval - time intercal between frames (default: 50 Myr)  \n",
    "#xlim - xlimits for figure  \n",
    "#ylim - ylimts for figure\n",
    "\n",
    "cspray.animate(frames=100,interval=50,xlim=(-25,25),ylim=(-25,25))"
   ]
  },
  {
   "cell_type": "code",
   "execution_count": null,
   "metadata": {},
   "outputs": [],
   "source": [
    "HTML(cspray.anim.to_jshtml())\n"
   ]
  },
  {
   "cell_type": "markdown",
   "metadata": {},
   "source": [
    "### Create Snapshot"
   ]
  },
  {
   "cell_type": "code",
   "execution_count": null,
   "metadata": {},
   "outputs": [],
   "source": [
    "#Output present day positions, velocities, escape times, and escape velocities of stars\n",
    "#filename: file name to write data to (default: corespray.dat)\n",
    "#filenameb: file name to write binary data to (default: corespray.dat)\n",
    "cspray.snapout(filename='corespray_gaussian.dat')"
   ]
  },
  {
   "cell_type": "code",
   "execution_count": null,
   "metadata": {},
   "outputs": [],
   "source": []
  }
 ],
 "metadata": {
  "kernelspec": {
   "display_name": "Python 3 (ipykernel)",
   "language": "python",
   "name": "python3"
  },
  "language_info": {
   "codemirror_mode": {
    "name": "ipython",
    "version": 3
   },
   "file_extension": ".py",
   "mimetype": "text/x-python",
   "name": "python",
   "nbconvert_exporter": "python",
   "pygments_lexer": "ipython3",
   "version": "3.11.3"
  }
 },
 "nbformat": 4,
 "nbformat_minor": 4
}
